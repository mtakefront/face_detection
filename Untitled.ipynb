{
 "cells": [
  {
   "cell_type": "code",
   "execution_count": 1,
   "id": "7a06f671-e2bf-4e67-b9cf-518954d03682",
   "metadata": {},
   "outputs": [],
   "source": [
    "import torch # GPU kontrolü için"
   ]
  },
  {
   "cell_type": "code",
   "execution_count": 2,
   "id": "315672ac-2ee4-4913-ade4-cc1b268ecb75",
   "metadata": {},
   "outputs": [
    {
     "name": "stdout",
     "output_type": "stream",
     "text": [
      "GPU bulundu: NVIDIA GeForce RTX 4070 Ti SUPER\n"
     ]
    }
   ],
   "source": [
    "if torch.cuda.is_available():\n",
    "    print(f\"GPU bulundu: {torch.cuda.get_device_name(0)}\")\n",
    "    DEVICE = 'cuda'\n",
    "else:\n",
    "    print(\"GPU bulunamadı, CPU kullanılacak\")\n",
    "    DEVICE = 'cpu'"
   ]
  },
  {
   "cell_type": "code",
   "execution_count": 3,
   "id": "336c6cf6-425b-4262-a553-ef098c713f38",
   "metadata": {},
   "outputs": [],
   "source": [
    "from tqdm import tqdm\n",
    "import yaml\n",
    "from ultralytics import YOLO\n",
    "import os\n",
    "import pandas as pd\n",
    "from sklearn.model_selection import train_test_split\n",
    "from PIL import Image"
   ]
  },
  {
   "cell_type": "code",
   "execution_count": 4,
   "id": "a2244c48-094d-4df2-986f-018ce3274244",
   "metadata": {},
   "outputs": [],
   "source": [
    "base_direction = r\"C:\\Users\\cauff\\OneDrive\\Desktop\\yazilim_xyz_p1\"\n",
    "\n",
    "dataset_dir = os.path.join(base_direction,'dataset')\n",
    "\n",
    "output_dir = os.path.join(base_direction,'outputs')\n",
    "runs_dir = os.path.join(output_dir,'runs_yolo')\n",
    "submission_dir = os.path.join(output_dir,'submissions')\n",
    "yaml_dir = os.path.join(dataset_dir,'data.yaml')\n",
    "\n",
    "os.makedirs(runs_dir, exist_ok= True)\n",
    "os.makedirs(submission_dir , exist_ok = True)"
   ]
  },
  {
   "cell_type": "code",
   "execution_count": 5,
   "id": "917cc15b-4f41-45c2-8a47-0cbca3604256",
   "metadata": {},
   "outputs": [
    {
     "name": "stdout",
     "output_type": "stream",
     "text": [
      " YOLO veri seti dizini: C:\\Users\\cauff\\OneDrive\\Desktop\\yazilim_xyz_p1\\dataset\n",
      " Eğitim çıktıları dizini: C:\\Users\\cauff\\OneDrive\\Desktop\\yazilim_xyz_p1\\outputs\n",
      " Eğitim logları: C:\\Users\\cauff\\OneDrive\\Desktop\\yazilim_xyz_p1\\outputs\\runs_yolo\n",
      " Submission dosyaları: C:\\Users\\cauff\\OneDrive\\Desktop\\yazilim_xyz_p1\\outputs\\submissions\n",
      " Yaml dosyaları: C:\\Users\\cauff\\OneDrive\\Desktop\\yazilim_xyz_p1\\dataset\\data.yaml\n",
      "\n",
      " Yaml İçerik:\n",
      "train: C:/Users/cauff/OneDrive/Desktop/yazilim_xyz_p1/dataset/train/images\n",
      "val: C:/Users/cauff/OneDrive/Desktop/yazilim_xyz_p1/dataset/valid/images\n",
      "\n",
      "nc: 2\n",
      "names: ['mehmet', 'non_mehmet']\n",
      "\n",
      "roboflow:\n",
      "  workspace: mtakefront\n",
      "  project: my-first-project-y0feh\n",
      "  version: 7\n",
      "  license: CC BY 4.0\n",
      "  url: https://universe.roboflow.com/mtakefront/my-first-project-y0feh/dataset/7\n"
     ]
    }
   ],
   "source": [
    "print(f\" YOLO veri seti dizini: {dataset_dir}\")\n",
    "print(f\" Eğitim çıktıları dizini: {output_dir}\")\n",
    "print(f\" Eğitim logları: {runs_dir}\")\n",
    "print(f\" Submission dosyaları: {submission_dir}\")\n",
    "print(f\" Yaml dosyaları: {yaml_dir}\")\n",
    "print(\"\\n Yaml İçerik:\")\n",
    "with open(yaml_dir, 'r') as f:\n",
    "    print(f.read())"
   ]
  },
  {
   "cell_type": "code",
   "execution_count": 6,
   "id": "ecb82f92-3d1f-413c-ab82-4659183c1bb4",
   "metadata": {},
   "outputs": [
    {
     "name": "stdout",
     "output_type": "stream",
     "text": [
      "New https://pypi.org/project/ultralytics/8.3.167 available  Update with 'pip install -U ultralytics'\n",
      "Ultralytics 8.3.145  Python-3.9.21 torch-2.5.1+cu121 CUDA:0 (NVIDIA GeForce RTX 4070 Ti SUPER, 16376MiB)\n",
      "\u001b[34m\u001b[1mengine\\trainer: \u001b[0magnostic_nms=False, amp=True, augment=False, auto_augment=randaugment, batch=32, bgr=0.0, box=7.5, cache=False, cfg=None, classes=None, close_mosaic=10, cls=0.5, conf=None, copy_paste=0.0, copy_paste_mode=flip, cos_lr=False, cutmix=0.0, data=C:\\Users\\cauff\\OneDrive\\Desktop\\yazilim_xyz_p1\\dataset\\data.yaml, degrees=10.0, deterministic=True, device=0, dfl=1.5, dnn=False, dropout=0.0, dynamic=False, embed=None, epochs=50, erasing=0.4, exist_ok=False, fliplr=0.75, flipud=0.0, format=torchscript, fraction=1.0, freeze=None, half=False, hsv_h=0.015, hsv_s=0.7, hsv_v=0.4, imgsz=640, int8=False, iou=0.7, keras=False, kobj=1.0, line_width=None, lr0=0.01, lrf=0.01, mask_ratio=4, max_det=300, mixup=0.0, mode=train, model=yolov8m.pt, momentum=0.937, mosaic=1.0, multi_scale=False, name=face_recognition18, nbs=64, nms=False, opset=None, optimize=False, optimizer=auto, overlap_mask=True, patience=50, perspective=0.0, plots=True, pose=12.0, pretrained=True, profile=False, project=C:\\Users\\cauff\\OneDrive\\Desktop\\yazilim_xyz_p1\\outputs\\runs_yolo, rect=False, resume=False, retina_masks=False, save=True, save_conf=False, save_crop=False, save_dir=C:\\Users\\cauff\\OneDrive\\Desktop\\yazilim_xyz_p1\\outputs\\runs_yolo\\face_recognition18, save_frames=False, save_json=False, save_period=-1, save_txt=False, scale=0.5, seed=0, shear=0.0, show=False, show_boxes=True, show_conf=True, show_labels=True, simplify=True, single_cls=False, source=None, split=val, stream_buffer=False, task=detect, time=None, tracker=botsort.yaml, translate=0.1, val=True, verbose=True, vid_stride=1, visualize=False, warmup_bias_lr=0.1, warmup_epochs=3.0, warmup_momentum=0.8, weight_decay=0.0005, workers=4, workspace=None\n",
      "Overriding model.yaml nc=80 with nc=2\n",
      "\n",
      "                   from  n    params  module                                       arguments                     \n",
      "  0                  -1  1      1392  ultralytics.nn.modules.conv.Conv             [3, 48, 3, 2]                 \n",
      "  1                  -1  1     41664  ultralytics.nn.modules.conv.Conv             [48, 96, 3, 2]                \n",
      "  2                  -1  2    111360  ultralytics.nn.modules.block.C2f             [96, 96, 2, True]             \n",
      "  3                  -1  1    166272  ultralytics.nn.modules.conv.Conv             [96, 192, 3, 2]               \n",
      "  4                  -1  4    813312  ultralytics.nn.modules.block.C2f             [192, 192, 4, True]           \n",
      "  5                  -1  1    664320  ultralytics.nn.modules.conv.Conv             [192, 384, 3, 2]              \n",
      "  6                  -1  4   3248640  ultralytics.nn.modules.block.C2f             [384, 384, 4, True]           \n",
      "  7                  -1  1   1991808  ultralytics.nn.modules.conv.Conv             [384, 576, 3, 2]              \n",
      "  8                  -1  2   3985920  ultralytics.nn.modules.block.C2f             [576, 576, 2, True]           \n",
      "  9                  -1  1    831168  ultralytics.nn.modules.block.SPPF            [576, 576, 5]                 \n",
      " 10                  -1  1         0  torch.nn.modules.upsampling.Upsample         [None, 2, 'nearest']          \n",
      " 11             [-1, 6]  1         0  ultralytics.nn.modules.conv.Concat           [1]                           \n",
      " 12                  -1  2   1993728  ultralytics.nn.modules.block.C2f             [960, 384, 2]                 \n",
      " 13                  -1  1         0  torch.nn.modules.upsampling.Upsample         [None, 2, 'nearest']          \n",
      " 14             [-1, 4]  1         0  ultralytics.nn.modules.conv.Concat           [1]                           \n",
      " 15                  -1  2    517632  ultralytics.nn.modules.block.C2f             [576, 192, 2]                 \n",
      " 16                  -1  1    332160  ultralytics.nn.modules.conv.Conv             [192, 192, 3, 2]              \n",
      " 17            [-1, 12]  1         0  ultralytics.nn.modules.conv.Concat           [1]                           \n",
      " 18                  -1  2   1846272  ultralytics.nn.modules.block.C2f             [576, 384, 2]                 \n",
      " 19                  -1  1   1327872  ultralytics.nn.modules.conv.Conv             [384, 384, 3, 2]              \n",
      " 20             [-1, 9]  1         0  ultralytics.nn.modules.conv.Concat           [1]                           \n",
      " 21                  -1  2   4207104  ultralytics.nn.modules.block.C2f             [960, 576, 2]                 \n",
      " 22        [15, 18, 21]  1   3776854  ultralytics.nn.modules.head.Detect           [2, [192, 384, 576]]          \n",
      "Model summary: 169 layers, 25,857,478 parameters, 25,857,462 gradients, 79.1 GFLOPs\n",
      "\n",
      "Transferred 469/475 items from pretrained weights\n",
      "Freezing layer 'model.22.dfl.conv.weight'\n",
      "\u001b[34m\u001b[1mAMP: \u001b[0mrunning Automatic Mixed Precision (AMP) checks...\n",
      "\u001b[34m\u001b[1mAMP: \u001b[0mchecks passed \n",
      "\u001b[34m\u001b[1mtrain: \u001b[0mFast image access  (ping: 0.00.0 ms, read: 141.977.4 MB/s, size: 591.4 KB)\n"
     ]
    },
    {
     "name": "stderr",
     "output_type": "stream",
     "text": [
      "\u001b[34m\u001b[1mtrain: \u001b[0mScanning C:\\Users\\cauff\\OneDrive\\Desktop\\yazilim_xyz_p1\\dataset\\train\\labels... 128 images, 0 backgrounds, 0 cor\u001b[0m"
     ]
    },
    {
     "name": "stdout",
     "output_type": "stream",
     "text": [
      "\u001b[34m\u001b[1mtrain: \u001b[0mNew cache created: C:\\Users\\cauff\\OneDrive\\Desktop\\yazilim_xyz_p1\\dataset\\train\\labels.cache\n"
     ]
    },
    {
     "name": "stderr",
     "output_type": "stream",
     "text": [
      "\n"
     ]
    },
    {
     "name": "stdout",
     "output_type": "stream",
     "text": [
      "\u001b[34m\u001b[1mval: \u001b[0mFast image access  (ping: 0.00.0 ms, read: 70.728.1 MB/s, size: 456.4 KB)\n"
     ]
    },
    {
     "name": "stderr",
     "output_type": "stream",
     "text": [
      "\u001b[34m\u001b[1mval: \u001b[0mScanning C:\\Users\\cauff\\OneDrive\\Desktop\\yazilim_xyz_p1\\dataset\\valid\\labels... 25 images, 0 backgrounds, 0 corrup\u001b[0m"
     ]
    },
    {
     "name": "stdout",
     "output_type": "stream",
     "text": [
      "\u001b[34m\u001b[1mval: \u001b[0mNew cache created: C:\\Users\\cauff\\OneDrive\\Desktop\\yazilim_xyz_p1\\dataset\\valid\\labels.cache\n"
     ]
    },
    {
     "name": "stderr",
     "output_type": "stream",
     "text": [
      "\n"
     ]
    },
    {
     "name": "stdout",
     "output_type": "stream",
     "text": [
      "Plotting labels to C:\\Users\\cauff\\OneDrive\\Desktop\\yazilim_xyz_p1\\outputs\\runs_yolo\\face_recognition18\\labels.jpg... \n",
      "\u001b[34m\u001b[1moptimizer:\u001b[0m 'optimizer=auto' found, ignoring 'lr0=0.01' and 'momentum=0.937' and determining best 'optimizer', 'lr0' and 'momentum' automatically... \n",
      "\u001b[34m\u001b[1moptimizer:\u001b[0m AdamW(lr=0.001667, momentum=0.9) with parameter groups 77 weight(decay=0.0), 84 weight(decay=0.0005), 83 bias(decay=0.0)\n",
      "Image sizes 640 train, 640 val\n",
      "Using 4 dataloader workers\n",
      "Logging results to \u001b[1mC:\\Users\\cauff\\OneDrive\\Desktop\\yazilim_xyz_p1\\outputs\\runs_yolo\\face_recognition18\u001b[0m\n",
      "Starting training for 50 epochs...\n",
      "\n",
      "      Epoch    GPU_mem   box_loss   cls_loss   dfl_loss  Instances       Size\n"
     ]
    },
    {
     "name": "stderr",
     "output_type": "stream",
     "text": [
      "       1/50      12.2G      1.448      4.236      1.734         99        640: 100%|██████████| 4/4 [00:02<00:00,  1.63\n",
      "                 Class     Images  Instances      Box(P          R      mAP50  mAP50-95): 100%|██████████| 1/1 [00:00<0"
     ]
    },
    {
     "name": "stdout",
     "output_type": "stream",
     "text": [
      "                   all         25         28    0.00361      0.247    0.00264   0.000778\n"
     ]
    },
    {
     "name": "stderr",
     "output_type": "stream",
     "text": [
      "\n"
     ]
    },
    {
     "name": "stdout",
     "output_type": "stream",
     "text": [
      "\n",
      "      Epoch    GPU_mem   box_loss   cls_loss   dfl_loss  Instances       Size\n"
     ]
    },
    {
     "name": "stderr",
     "output_type": "stream",
     "text": [
      "       2/50      12.2G      1.444      4.311      1.759         83        640: 100%|██████████| 4/4 [00:01<00:00,  2.76\n",
      "                 Class     Images  Instances      Box(P          R      mAP50  mAP50-95): 100%|██████████| 1/1 [00:00<0"
     ]
    },
    {
     "name": "stdout",
     "output_type": "stream",
     "text": [
      "                   all         25         28    0.00445      0.267    0.00354   0.000856\n"
     ]
    },
    {
     "name": "stderr",
     "output_type": "stream",
     "text": [
      "\n"
     ]
    },
    {
     "name": "stdout",
     "output_type": "stream",
     "text": [
      "\n",
      "      Epoch    GPU_mem   box_loss   cls_loss   dfl_loss  Instances       Size\n"
     ]
    },
    {
     "name": "stderr",
     "output_type": "stream",
     "text": [
      "       3/50      12.2G      1.113      2.544      1.434         95        640: 100%|██████████| 4/4 [00:01<00:00,  2.67\n",
      "                 Class     Images  Instances      Box(P          R      mAP50  mAP50-95): 100%|██████████| 1/1 [00:00<0"
     ]
    },
    {
     "name": "stdout",
     "output_type": "stream",
     "text": [
      "                   all         25         28      0.852       0.48      0.467      0.299\n"
     ]
    },
    {
     "name": "stderr",
     "output_type": "stream",
     "text": [
      "\n"
     ]
    },
    {
     "name": "stdout",
     "output_type": "stream",
     "text": [
      "\n",
      "      Epoch    GPU_mem   box_loss   cls_loss   dfl_loss  Instances       Size\n"
     ]
    },
    {
     "name": "stderr",
     "output_type": "stream",
     "text": [
      "       4/50      12.4G     0.8575      1.313      1.236         85        640: 100%|██████████| 4/4 [00:01<00:00,  2.70\n",
      "                 Class     Images  Instances      Box(P          R      mAP50  mAP50-95): 100%|██████████| 1/1 [00:00<0"
     ]
    },
    {
     "name": "stdout",
     "output_type": "stream",
     "text": [
      "                   all         25         28      0.436      0.587      0.625      0.308\n"
     ]
    },
    {
     "name": "stderr",
     "output_type": "stream",
     "text": [
      "\n"
     ]
    },
    {
     "name": "stdout",
     "output_type": "stream",
     "text": [
      "\n",
      "      Epoch    GPU_mem   box_loss   cls_loss   dfl_loss  Instances       Size\n"
     ]
    },
    {
     "name": "stderr",
     "output_type": "stream",
     "text": [
      "       5/50      12.4G     0.9224      1.138      1.278         80        640: 100%|██████████| 4/4 [00:01<00:00,  2.71\n",
      "                 Class     Images  Instances      Box(P          R      mAP50  mAP50-95): 100%|██████████| 1/1 [00:00<0"
     ]
    },
    {
     "name": "stdout",
     "output_type": "stream",
     "text": [
      "                   all         25         28      0.477       0.42      0.464      0.306\n"
     ]
    },
    {
     "name": "stderr",
     "output_type": "stream",
     "text": [
      "\n"
     ]
    },
    {
     "name": "stdout",
     "output_type": "stream",
     "text": [
      "\n",
      "      Epoch    GPU_mem   box_loss   cls_loss   dfl_loss  Instances       Size\n"
     ]
    },
    {
     "name": "stderr",
     "output_type": "stream",
     "text": [
      "       6/50      12.4G     0.8896     0.9269      1.208         79        640: 100%|██████████| 4/4 [00:01<00:00,  2.66\n",
      "                 Class     Images  Instances      Box(P          R      mAP50  mAP50-95): 100%|██████████| 1/1 [00:00<0"
     ]
    },
    {
     "name": "stdout",
     "output_type": "stream",
     "text": [
      "                   all         25         28      0.417       0.44      0.464      0.273\n"
     ]
    },
    {
     "name": "stderr",
     "output_type": "stream",
     "text": [
      "\n"
     ]
    },
    {
     "name": "stdout",
     "output_type": "stream",
     "text": [
      "\n",
      "      Epoch    GPU_mem   box_loss   cls_loss   dfl_loss  Instances       Size\n"
     ]
    },
    {
     "name": "stderr",
     "output_type": "stream",
     "text": [
      "       7/50      12.4G     0.8922     0.8472       1.22         77        640: 100%|██████████| 4/4 [00:01<00:00,  2.74\n",
      "                 Class     Images  Instances      Box(P          R      mAP50  mAP50-95): 100%|██████████| 1/1 [00:00<0"
     ]
    },
    {
     "name": "stdout",
     "output_type": "stream",
     "text": [
      "                   all         25         28      0.882       0.26      0.321      0.194\n"
     ]
    },
    {
     "name": "stderr",
     "output_type": "stream",
     "text": [
      "\n"
     ]
    },
    {
     "name": "stdout",
     "output_type": "stream",
     "text": [
      "\n",
      "      Epoch    GPU_mem   box_loss   cls_loss   dfl_loss  Instances       Size\n"
     ]
    },
    {
     "name": "stderr",
     "output_type": "stream",
     "text": [
      "       8/50      12.4G     0.8834     0.7966      1.225         79        640: 100%|██████████| 4/4 [00:01<00:00,  2.71\n",
      "                 Class     Images  Instances      Box(P          R      mAP50  mAP50-95): 100%|██████████| 1/1 [00:00<0"
     ]
    },
    {
     "name": "stdout",
     "output_type": "stream",
     "text": [
      "                   all         25         28      0.841        0.3      0.268      0.116\n"
     ]
    },
    {
     "name": "stderr",
     "output_type": "stream",
     "text": [
      "\n"
     ]
    },
    {
     "name": "stdout",
     "output_type": "stream",
     "text": [
      "\n",
      "      Epoch    GPU_mem   box_loss   cls_loss   dfl_loss  Instances       Size\n"
     ]
    },
    {
     "name": "stderr",
     "output_type": "stream",
     "text": [
      "       9/50      12.4G     0.8424      0.801       1.19         70        640: 100%|██████████| 4/4 [00:01<00:00,  2.74\n",
      "                 Class     Images  Instances      Box(P          R      mAP50  mAP50-95): 100%|██████████| 1/1 [00:00<0"
     ]
    },
    {
     "name": "stdout",
     "output_type": "stream",
     "text": [
      "                   all         25         28      0.648       0.36      0.164      0.093\n"
     ]
    },
    {
     "name": "stderr",
     "output_type": "stream",
     "text": [
      "\n"
     ]
    },
    {
     "name": "stdout",
     "output_type": "stream",
     "text": [
      "\n",
      "      Epoch    GPU_mem   box_loss   cls_loss   dfl_loss  Instances       Size\n"
     ]
    },
    {
     "name": "stderr",
     "output_type": "stream",
     "text": [
      "      10/50      12.4G     0.8369     0.7847      1.183         99        640: 100%|██████████| 4/4 [00:01<00:00,  2.70\n",
      "                 Class     Images  Instances      Box(P          R      mAP50  mAP50-95): 100%|██████████| 1/1 [00:00<0"
     ]
    },
    {
     "name": "stdout",
     "output_type": "stream",
     "text": [
      "                   all         25         28     0.0163      0.367     0.0126    0.00464\n"
     ]
    },
    {
     "name": "stderr",
     "output_type": "stream",
     "text": [
      "\n"
     ]
    },
    {
     "name": "stdout",
     "output_type": "stream",
     "text": [
      "\n",
      "      Epoch    GPU_mem   box_loss   cls_loss   dfl_loss  Instances       Size\n"
     ]
    },
    {
     "name": "stderr",
     "output_type": "stream",
     "text": [
      "      11/50      12.4G     0.8635     0.7318       1.21         84        640: 100%|██████████| 4/4 [00:01<00:00,  2.71\n",
      "                 Class     Images  Instances      Box(P          R      mAP50  mAP50-95): 100%|██████████| 1/1 [00:00<0"
     ]
    },
    {
     "name": "stdout",
     "output_type": "stream",
     "text": [
      "                   all         25         28      0.501       0.06   0.000526   0.000128\n"
     ]
    },
    {
     "name": "stderr",
     "output_type": "stream",
     "text": [
      "\n"
     ]
    },
    {
     "name": "stdout",
     "output_type": "stream",
     "text": [
      "\n",
      "      Epoch    GPU_mem   box_loss   cls_loss   dfl_loss  Instances       Size\n"
     ]
    },
    {
     "name": "stderr",
     "output_type": "stream",
     "text": [
      "      12/50      12.4G     0.8903     0.7411      1.253         88        640: 100%|██████████| 4/4 [00:01<00:00,  2.72\n",
      "                 Class     Images  Instances      Box(P          R      mAP50  mAP50-95): 100%|██████████| 1/1 [00:00<0"
     ]
    },
    {
     "name": "stdout",
     "output_type": "stream",
     "text": [
      "                   all         25         28          0          0          0          0\n"
     ]
    },
    {
     "name": "stderr",
     "output_type": "stream",
     "text": [
      "\n"
     ]
    },
    {
     "name": "stdout",
     "output_type": "stream",
     "text": [
      "\n",
      "      Epoch    GPU_mem   box_loss   cls_loss   dfl_loss  Instances       Size\n"
     ]
    },
    {
     "name": "stderr",
     "output_type": "stream",
     "text": [
      "      13/50      12.4G     0.9221     0.7575      1.217         86        640: 100%|██████████| 4/4 [00:01<00:00,  2.78\n",
      "                 Class     Images  Instances      Box(P          R      mAP50  mAP50-95): 100%|██████████| 1/1 [00:00<0"
     ]
    },
    {
     "name": "stdout",
     "output_type": "stream",
     "text": [
      "                   all         25         28        0.5       0.02   4.84e-05   1.94e-05\n"
     ]
    },
    {
     "name": "stderr",
     "output_type": "stream",
     "text": [
      "\n"
     ]
    },
    {
     "name": "stdout",
     "output_type": "stream",
     "text": [
      "\n",
      "      Epoch    GPU_mem   box_loss   cls_loss   dfl_loss  Instances       Size\n"
     ]
    },
    {
     "name": "stderr",
     "output_type": "stream",
     "text": [
      "      14/50      12.4G     0.8774     0.7244      1.213         88        640: 100%|██████████| 4/4 [00:01<00:00,  2.80\n",
      "                 Class     Images  Instances      Box(P          R      mAP50  mAP50-95): 100%|██████████| 1/1 [00:00<0"
     ]
    },
    {
     "name": "stdout",
     "output_type": "stream",
     "text": [
      "                   all         25         28      0.501       0.06   0.000271   0.000212\n"
     ]
    },
    {
     "name": "stderr",
     "output_type": "stream",
     "text": [
      "\n"
     ]
    },
    {
     "name": "stdout",
     "output_type": "stream",
     "text": [
      "\n",
      "      Epoch    GPU_mem   box_loss   cls_loss   dfl_loss  Instances       Size\n"
     ]
    },
    {
     "name": "stderr",
     "output_type": "stream",
     "text": [
      "      15/50      12.4G     0.7693     0.6704      1.158         76        640: 100%|██████████| 4/4 [00:01<00:00,  2.77\n",
      "                 Class     Images  Instances      Box(P          R      mAP50  mAP50-95): 100%|██████████| 1/1 [00:00<0"
     ]
    },
    {
     "name": "stdout",
     "output_type": "stream",
     "text": [
      "                   all         25         28      0.502       0.08   0.000905   0.000379\n"
     ]
    },
    {
     "name": "stderr",
     "output_type": "stream",
     "text": [
      "\n"
     ]
    },
    {
     "name": "stdout",
     "output_type": "stream",
     "text": [
      "\n",
      "      Epoch    GPU_mem   box_loss   cls_loss   dfl_loss  Instances       Size\n"
     ]
    },
    {
     "name": "stderr",
     "output_type": "stream",
     "text": [
      "      16/50      12.4G     0.8088     0.7074      1.171         81        640: 100%|██████████| 4/4 [00:01<00:00,  2.81\n",
      "                 Class     Images  Instances      Box(P          R      mAP50  mAP50-95): 100%|██████████| 1/1 [00:00<0"
     ]
    },
    {
     "name": "stdout",
     "output_type": "stream",
     "text": [
      "                   all         25         28      0.509       0.08    0.00512    0.00277\n"
     ]
    },
    {
     "name": "stderr",
     "output_type": "stream",
     "text": [
      "\n"
     ]
    },
    {
     "name": "stdout",
     "output_type": "stream",
     "text": [
      "\n",
      "      Epoch    GPU_mem   box_loss   cls_loss   dfl_loss  Instances       Size\n"
     ]
    },
    {
     "name": "stderr",
     "output_type": "stream",
     "text": [
      "      17/50      12.4G     0.8225     0.6433      1.196         94        640: 100%|██████████| 4/4 [00:01<00:00,  2.79\n",
      "                 Class     Images  Instances      Box(P          R      mAP50  mAP50-95): 100%|██████████| 1/1 [00:00<0"
     ]
    },
    {
     "name": "stdout",
     "output_type": "stream",
     "text": [
      "                   all         25         28      0.508       0.14    0.00569    0.00245\n"
     ]
    },
    {
     "name": "stderr",
     "output_type": "stream",
     "text": [
      "\n"
     ]
    },
    {
     "name": "stdout",
     "output_type": "stream",
     "text": [
      "\n",
      "      Epoch    GPU_mem   box_loss   cls_loss   dfl_loss  Instances       Size\n"
     ]
    },
    {
     "name": "stderr",
     "output_type": "stream",
     "text": [
      "      18/50      12.4G      0.826     0.6717      1.164         97        640: 100%|██████████| 4/4 [00:01<00:00,  2.76\n",
      "                 Class     Images  Instances      Box(P          R      mAP50  mAP50-95): 100%|██████████| 1/1 [00:00<0"
     ]
    },
    {
     "name": "stdout",
     "output_type": "stream",
     "text": [
      "                   all         25         28     0.0359       0.06    0.00974    0.00323\n"
     ]
    },
    {
     "name": "stderr",
     "output_type": "stream",
     "text": [
      "\n"
     ]
    },
    {
     "name": "stdout",
     "output_type": "stream",
     "text": [
      "\n",
      "      Epoch    GPU_mem   box_loss   cls_loss   dfl_loss  Instances       Size\n"
     ]
    },
    {
     "name": "stderr",
     "output_type": "stream",
     "text": [
      "      19/50      12.4G     0.8273     0.6476      1.136        105        640: 100%|██████████| 4/4 [00:01<00:00,  2.77\n",
      "                 Class     Images  Instances      Box(P          R      mAP50  mAP50-95): 100%|██████████| 1/1 [00:00<0"
     ]
    },
    {
     "name": "stdout",
     "output_type": "stream",
     "text": [
      "                   all         25         28     0.0023       0.06    0.00107   0.000644\n"
     ]
    },
    {
     "name": "stderr",
     "output_type": "stream",
     "text": [
      "\n"
     ]
    },
    {
     "name": "stdout",
     "output_type": "stream",
     "text": [
      "\n",
      "      Epoch    GPU_mem   box_loss   cls_loss   dfl_loss  Instances       Size\n"
     ]
    },
    {
     "name": "stderr",
     "output_type": "stream",
     "text": [
      "      20/50      12.4G     0.8794     0.6626       1.21         89        640: 100%|██████████| 4/4 [00:01<00:00,  2.79\n",
      "                 Class     Images  Instances      Box(P          R      mAP50  mAP50-95): 100%|██████████| 1/1 [00:00<0"
     ]
    },
    {
     "name": "stdout",
     "output_type": "stream",
     "text": [
      "                   all         25         28    0.00617       0.06     0.0016   0.000962\n"
     ]
    },
    {
     "name": "stderr",
     "output_type": "stream",
     "text": [
      "\n"
     ]
    },
    {
     "name": "stdout",
     "output_type": "stream",
     "text": [
      "\n",
      "      Epoch    GPU_mem   box_loss   cls_loss   dfl_loss  Instances       Size\n"
     ]
    },
    {
     "name": "stderr",
     "output_type": "stream",
     "text": [
      "      21/50      12.4G     0.8226     0.6596      1.177         79        640: 100%|██████████| 4/4 [00:01<00:00,  2.81\n",
      "                 Class     Images  Instances      Box(P          R      mAP50  mAP50-95): 100%|██████████| 1/1 [00:00<0"
     ]
    },
    {
     "name": "stdout",
     "output_type": "stream",
     "text": [
      "                   all         25         28    0.00255       0.08   0.000839   0.000336\n"
     ]
    },
    {
     "name": "stderr",
     "output_type": "stream",
     "text": [
      "\n"
     ]
    },
    {
     "name": "stdout",
     "output_type": "stream",
     "text": [
      "\n",
      "      Epoch    GPU_mem   box_loss   cls_loss   dfl_loss  Instances       Size\n"
     ]
    },
    {
     "name": "stderr",
     "output_type": "stream",
     "text": [
      "      22/50      12.4G     0.7306     0.5932      1.128         72        640: 100%|██████████| 4/4 [00:01<00:00,  2.75\n",
      "                 Class     Images  Instances      Box(P          R      mAP50  mAP50-95): 100%|██████████| 1/1 [00:00<0"
     ]
    },
    {
     "name": "stdout",
     "output_type": "stream",
     "text": [
      "                   all         25         28    0.00157       0.22     0.0011   0.000241\n"
     ]
    },
    {
     "name": "stderr",
     "output_type": "stream",
     "text": [
      "\n"
     ]
    },
    {
     "name": "stdout",
     "output_type": "stream",
     "text": [
      "\n",
      "      Epoch    GPU_mem   box_loss   cls_loss   dfl_loss  Instances       Size\n"
     ]
    },
    {
     "name": "stderr",
     "output_type": "stream",
     "text": [
      "      23/50      12.4G     0.7695     0.5931      1.153         87        640: 100%|██████████| 4/4 [00:01<00:00,  2.76\n",
      "                 Class     Images  Instances      Box(P          R      mAP50  mAP50-95): 100%|██████████| 1/1 [00:00<0"
     ]
    },
    {
     "name": "stdout",
     "output_type": "stream",
     "text": [
      "                   all         25         28   0.000888        0.2   0.000751   0.000158\n"
     ]
    },
    {
     "name": "stderr",
     "output_type": "stream",
     "text": [
      "\n"
     ]
    },
    {
     "name": "stdout",
     "output_type": "stream",
     "text": [
      "\n",
      "      Epoch    GPU_mem   box_loss   cls_loss   dfl_loss  Instances       Size\n"
     ]
    },
    {
     "name": "stderr",
     "output_type": "stream",
     "text": [
      "      24/50      12.4G     0.8275     0.6929      1.193         77        640: 100%|██████████| 4/4 [00:01<00:00,  2.80\n",
      "                 Class     Images  Instances      Box(P          R      mAP50  mAP50-95): 100%|██████████| 1/1 [00:00<0"
     ]
    },
    {
     "name": "stdout",
     "output_type": "stream",
     "text": [
      "                   all         25         28      0.502       0.24    0.00225   0.000639\n"
     ]
    },
    {
     "name": "stderr",
     "output_type": "stream",
     "text": [
      "\n"
     ]
    },
    {
     "name": "stdout",
     "output_type": "stream",
     "text": [
      "\n",
      "      Epoch    GPU_mem   box_loss   cls_loss   dfl_loss  Instances       Size\n"
     ]
    },
    {
     "name": "stderr",
     "output_type": "stream",
     "text": [
      "      25/50      12.4G     0.8474     0.6472       1.22         81        640: 100%|██████████| 4/4 [00:01<00:00,  2.79\n",
      "                 Class     Images  Instances      Box(P          R      mAP50  mAP50-95): 100%|██████████| 1/1 [00:00<0"
     ]
    },
    {
     "name": "stdout",
     "output_type": "stream",
     "text": [
      "                   all         25         28      0.514       0.14     0.0108    0.00304\n"
     ]
    },
    {
     "name": "stderr",
     "output_type": "stream",
     "text": [
      "\n"
     ]
    },
    {
     "name": "stdout",
     "output_type": "stream",
     "text": [
      "\n",
      "      Epoch    GPU_mem   box_loss   cls_loss   dfl_loss  Instances       Size\n"
     ]
    },
    {
     "name": "stderr",
     "output_type": "stream",
     "text": [
      "      26/50      12.4G     0.7905     0.5707      1.132         88        640: 100%|██████████| 4/4 [00:01<00:00,  2.79\n",
      "                 Class     Images  Instances      Box(P          R      mAP50  mAP50-95): 100%|██████████| 1/1 [00:00<0"
     ]
    },
    {
     "name": "stdout",
     "output_type": "stream",
     "text": [
      "                   all         25         28      0.502       0.28    0.00124   0.000383\n"
     ]
    },
    {
     "name": "stderr",
     "output_type": "stream",
     "text": [
      "\n"
     ]
    },
    {
     "name": "stdout",
     "output_type": "stream",
     "text": [
      "\n",
      "      Epoch    GPU_mem   box_loss   cls_loss   dfl_loss  Instances       Size\n"
     ]
    },
    {
     "name": "stderr",
     "output_type": "stream",
     "text": [
      "      27/50      12.5G     0.9556     0.6714      1.247         79        640: 100%|██████████| 4/4 [00:01<00:00,  2.81\n",
      "                 Class     Images  Instances      Box(P          R      mAP50  mAP50-95): 100%|██████████| 1/1 [00:00<0"
     ]
    },
    {
     "name": "stdout",
     "output_type": "stream",
     "text": [
      "                   all         25         28   0.000693        0.2   0.000491   0.000238\n"
     ]
    },
    {
     "name": "stderr",
     "output_type": "stream",
     "text": [
      "\n"
     ]
    },
    {
     "name": "stdout",
     "output_type": "stream",
     "text": [
      "\n",
      "      Epoch    GPU_mem   box_loss   cls_loss   dfl_loss  Instances       Size\n"
     ]
    },
    {
     "name": "stderr",
     "output_type": "stream",
     "text": [
      "      28/50      12.4G     0.7657     0.6566      1.156         68        640: 100%|██████████| 4/4 [00:01<00:00,  2.80\n",
      "                 Class     Images  Instances      Box(P          R      mAP50  mAP50-95): 100%|██████████| 1/1 [00:00<0"
     ]
    },
    {
     "name": "stdout",
     "output_type": "stream",
     "text": [
      "                   all         25         28    0.00174       0.28    0.00169   0.000838\n"
     ]
    },
    {
     "name": "stderr",
     "output_type": "stream",
     "text": [
      "\n"
     ]
    },
    {
     "name": "stdout",
     "output_type": "stream",
     "text": [
      "\n",
      "      Epoch    GPU_mem   box_loss   cls_loss   dfl_loss  Instances       Size\n"
     ]
    },
    {
     "name": "stderr",
     "output_type": "stream",
     "text": [
      "      29/50      12.5G     0.7985     0.7123      1.159         86        640: 100%|██████████| 4/4 [00:01<00:00,  2.81\n",
      "                 Class     Images  Instances      Box(P          R      mAP50  mAP50-95): 100%|██████████| 1/1 [00:00<0"
     ]
    },
    {
     "name": "stdout",
     "output_type": "stream",
     "text": [
      "                   all         25         28      0.502       0.22    0.00197   0.000915\n"
     ]
    },
    {
     "name": "stderr",
     "output_type": "stream",
     "text": [
      "\n"
     ]
    },
    {
     "name": "stdout",
     "output_type": "stream",
     "text": [
      "\n",
      "      Epoch    GPU_mem   box_loss   cls_loss   dfl_loss  Instances       Size\n"
     ]
    },
    {
     "name": "stderr",
     "output_type": "stream",
     "text": [
      "      30/50      12.4G     0.8809     0.6582      1.193         96        640: 100%|██████████| 4/4 [00:01<00:00,  2.82\n",
      "                 Class     Images  Instances      Box(P          R      mAP50  mAP50-95): 100%|██████████| 1/1 [00:00<0"
     ]
    },
    {
     "name": "stdout",
     "output_type": "stream",
     "text": [
      "                   all         25         28      0.002       0.32    0.00178   0.000783\n"
     ]
    },
    {
     "name": "stderr",
     "output_type": "stream",
     "text": [
      "\n"
     ]
    },
    {
     "name": "stdout",
     "output_type": "stream",
     "text": [
      "\n",
      "      Epoch    GPU_mem   box_loss   cls_loss   dfl_loss  Instances       Size\n"
     ]
    },
    {
     "name": "stderr",
     "output_type": "stream",
     "text": [
      "      31/50      12.4G     0.6953     0.5584      1.112         81        640: 100%|██████████| 4/4 [00:01<00:00,  2.76\n",
      "                 Class     Images  Instances      Box(P          R      mAP50  mAP50-95): 100%|██████████| 1/1 [00:00<0"
     ]
    },
    {
     "name": "stdout",
     "output_type": "stream",
     "text": [
      "                   all         25         28    0.00116       0.26    0.00102   0.000448\n"
     ]
    },
    {
     "name": "stderr",
     "output_type": "stream",
     "text": [
      "\n"
     ]
    },
    {
     "name": "stdout",
     "output_type": "stream",
     "text": [
      "\n",
      "      Epoch    GPU_mem   box_loss   cls_loss   dfl_loss  Instances       Size\n"
     ]
    },
    {
     "name": "stderr",
     "output_type": "stream",
     "text": [
      "      32/50      12.4G     0.7323     0.5518      1.127         84        640: 100%|██████████| 4/4 [00:01<00:00,  2.82\n",
      "                 Class     Images  Instances      Box(P          R      mAP50  mAP50-95): 100%|██████████| 1/1 [00:00<0"
     ]
    },
    {
     "name": "stdout",
     "output_type": "stream",
     "text": [
      "                   all         25         28      0.502       0.32    0.00239    0.00108\n"
     ]
    },
    {
     "name": "stderr",
     "output_type": "stream",
     "text": [
      "\n"
     ]
    },
    {
     "name": "stdout",
     "output_type": "stream",
     "text": [
      "\n",
      "      Epoch    GPU_mem   box_loss   cls_loss   dfl_loss  Instances       Size\n"
     ]
    },
    {
     "name": "stderr",
     "output_type": "stream",
     "text": [
      "      33/50      12.4G      0.684     0.5117      1.082         81        640: 100%|██████████| 4/4 [00:01<00:00,  2.81\n",
      "                 Class     Images  Instances      Box(P          R      mAP50  mAP50-95): 100%|██████████| 1/1 [00:00<0"
     ]
    },
    {
     "name": "stdout",
     "output_type": "stream",
     "text": [
      "                   all         25         28     0.0732      0.647     0.0358     0.0131\n"
     ]
    },
    {
     "name": "stderr",
     "output_type": "stream",
     "text": [
      "\n"
     ]
    },
    {
     "name": "stdout",
     "output_type": "stream",
     "text": [
      "\n",
      "      Epoch    GPU_mem   box_loss   cls_loss   dfl_loss  Instances       Size\n"
     ]
    },
    {
     "name": "stderr",
     "output_type": "stream",
     "text": [
      "      34/50      12.4G     0.6769     0.5002      1.095         76        640: 100%|██████████| 4/4 [00:01<00:00,  2.80\n",
      "                 Class     Images  Instances      Box(P          R      mAP50  mAP50-95): 100%|██████████| 1/1 [00:00<0"
     ]
    },
    {
     "name": "stdout",
     "output_type": "stream",
     "text": [
      "                   all         25         28      0.666       0.36      0.254      0.178\n"
     ]
    },
    {
     "name": "stderr",
     "output_type": "stream",
     "text": [
      "\n"
     ]
    },
    {
     "name": "stdout",
     "output_type": "stream",
     "text": [
      "\n",
      "      Epoch    GPU_mem   box_loss   cls_loss   dfl_loss  Instances       Size\n"
     ]
    },
    {
     "name": "stderr",
     "output_type": "stream",
     "text": [
      "      35/50      12.4G     0.6998     0.4937      1.104         80        640: 100%|██████████| 4/4 [00:01<00:00,  2.80\n",
      "                 Class     Images  Instances      Box(P          R      mAP50  mAP50-95): 100%|██████████| 1/1 [00:00<0"
     ]
    },
    {
     "name": "stdout",
     "output_type": "stream",
     "text": [
      "                   all         25         28      0.701      0.592      0.621      0.414\n"
     ]
    },
    {
     "name": "stderr",
     "output_type": "stream",
     "text": [
      "\n"
     ]
    },
    {
     "name": "stdout",
     "output_type": "stream",
     "text": [
      "\n",
      "      Epoch    GPU_mem   box_loss   cls_loss   dfl_loss  Instances       Size\n"
     ]
    },
    {
     "name": "stderr",
     "output_type": "stream",
     "text": [
      "      36/50      12.4G     0.7076      0.494      1.099         99        640: 100%|██████████| 4/4 [00:01<00:00,  2.75\n",
      "                 Class     Images  Instances      Box(P          R      mAP50  mAP50-95): 100%|██████████| 1/1 [00:00<0"
     ]
    },
    {
     "name": "stdout",
     "output_type": "stream",
     "text": [
      "                   all         25         28      0.872      0.543      0.651      0.469\n"
     ]
    },
    {
     "name": "stderr",
     "output_type": "stream",
     "text": [
      "\n"
     ]
    },
    {
     "name": "stdout",
     "output_type": "stream",
     "text": [
      "\n",
      "      Epoch    GPU_mem   box_loss   cls_loss   dfl_loss  Instances       Size\n"
     ]
    },
    {
     "name": "stderr",
     "output_type": "stream",
     "text": [
      "      37/50      12.4G     0.6539     0.4923      1.057         97        640: 100%|██████████| 4/4 [00:01<00:00,  2.79\n",
      "                 Class     Images  Instances      Box(P          R      mAP50  mAP50-95): 100%|██████████| 1/1 [00:00<0"
     ]
    },
    {
     "name": "stdout",
     "output_type": "stream",
     "text": [
      "                   all         25         28      0.551      0.608      0.548       0.45\n"
     ]
    },
    {
     "name": "stderr",
     "output_type": "stream",
     "text": [
      "\n"
     ]
    },
    {
     "name": "stdout",
     "output_type": "stream",
     "text": [
      "\n",
      "      Epoch    GPU_mem   box_loss   cls_loss   dfl_loss  Instances       Size\n"
     ]
    },
    {
     "name": "stderr",
     "output_type": "stream",
     "text": [
      "      38/50      12.4G     0.6731     0.4824      1.085         82        640: 100%|██████████| 4/4 [00:01<00:00,  2.77\n",
      "                 Class     Images  Instances      Box(P          R      mAP50  mAP50-95): 100%|██████████| 1/1 [00:00<0"
     ]
    },
    {
     "name": "stdout",
     "output_type": "stream",
     "text": [
      "                   all         25         28      0.921        0.4      0.443      0.362\n"
     ]
    },
    {
     "name": "stderr",
     "output_type": "stream",
     "text": [
      "\n"
     ]
    },
    {
     "name": "stdout",
     "output_type": "stream",
     "text": [
      "\n",
      "      Epoch    GPU_mem   box_loss   cls_loss   dfl_loss  Instances       Size\n"
     ]
    },
    {
     "name": "stderr",
     "output_type": "stream",
     "text": [
      "      39/50      12.4G     0.6568     0.4601      1.086         81        640: 100%|██████████| 4/4 [00:01<00:00,  2.79\n",
      "                 Class     Images  Instances      Box(P          R      mAP50  mAP50-95): 100%|██████████| 1/1 [00:00<0"
     ]
    },
    {
     "name": "stdout",
     "output_type": "stream",
     "text": [
      "                   all         25         28      0.934        0.3      0.339      0.276\n"
     ]
    },
    {
     "name": "stderr",
     "output_type": "stream",
     "text": [
      "\n"
     ]
    },
    {
     "name": "stdout",
     "output_type": "stream",
     "text": [
      "\n",
      "      Epoch    GPU_mem   box_loss   cls_loss   dfl_loss  Instances       Size\n"
     ]
    },
    {
     "name": "stderr",
     "output_type": "stream",
     "text": [
      "      40/50      12.4G     0.6483     0.4303      1.059         80        640: 100%|██████████| 4/4 [00:01<00:00,  2.82\n",
      "                 Class     Images  Instances      Box(P          R      mAP50  mAP50-95): 100%|██████████| 1/1 [00:00<0"
     ]
    },
    {
     "name": "stdout",
     "output_type": "stream",
     "text": [
      "                   all         25         28      0.326      0.547      0.422      0.346\n"
     ]
    },
    {
     "name": "stderr",
     "output_type": "stream",
     "text": [
      "\n"
     ]
    },
    {
     "name": "stdout",
     "output_type": "stream",
     "text": [
      "Closing dataloader mosaic\n",
      "\n",
      "      Epoch    GPU_mem   box_loss   cls_loss   dfl_loss  Instances       Size\n"
     ]
    },
    {
     "name": "stderr",
     "output_type": "stream",
     "text": [
      "      41/50      12.4G     0.5723     0.4239     0.9934         37        640: 100%|██████████| 4/4 [00:02<00:00,  1.74\n",
      "                 Class     Images  Instances      Box(P          R      mAP50  mAP50-95): 100%|██████████| 1/1 [00:00<0"
     ]
    },
    {
     "name": "stdout",
     "output_type": "stream",
     "text": [
      "                   all         25         28      0.704      0.627      0.644      0.496\n"
     ]
    },
    {
     "name": "stderr",
     "output_type": "stream",
     "text": [
      "\n"
     ]
    },
    {
     "name": "stdout",
     "output_type": "stream",
     "text": [
      "\n",
      "      Epoch    GPU_mem   box_loss   cls_loss   dfl_loss  Instances       Size\n"
     ]
    },
    {
     "name": "stderr",
     "output_type": "stream",
     "text": [
      "      42/50      12.4G     0.5277     0.3819      1.009         39        640: 100%|██████████| 4/4 [00:01<00:00,  2.79\n",
      "                 Class     Images  Instances      Box(P          R      mAP50  mAP50-95): 100%|██████████| 1/1 [00:00<0"
     ]
    },
    {
     "name": "stdout",
     "output_type": "stream",
     "text": [
      "                   all         25         28      0.697      0.667      0.681      0.545\n"
     ]
    },
    {
     "name": "stderr",
     "output_type": "stream",
     "text": [
      "\n"
     ]
    },
    {
     "name": "stdout",
     "output_type": "stream",
     "text": [
      "\n",
      "      Epoch    GPU_mem   box_loss   cls_loss   dfl_loss  Instances       Size\n"
     ]
    },
    {
     "name": "stderr",
     "output_type": "stream",
     "text": [
      "      43/50      12.4G     0.5552     0.3608     0.9808         38        640: 100%|██████████| 4/4 [00:01<00:00,  2.80\n",
      "                 Class     Images  Instances      Box(P          R      mAP50  mAP50-95): 100%|██████████| 1/1 [00:00<0"
     ]
    },
    {
     "name": "stdout",
     "output_type": "stream",
     "text": [
      "                   all         25         28      0.852      0.833      0.831      0.677\n"
     ]
    },
    {
     "name": "stderr",
     "output_type": "stream",
     "text": [
      "\n"
     ]
    },
    {
     "name": "stdout",
     "output_type": "stream",
     "text": [
      "\n",
      "      Epoch    GPU_mem   box_loss   cls_loss   dfl_loss  Instances       Size\n"
     ]
    },
    {
     "name": "stderr",
     "output_type": "stream",
     "text": [
      "      44/50      12.4G     0.6243     0.3743      1.045         41        640: 100%|██████████| 4/4 [00:01<00:00,  2.80\n",
      "                 Class     Images  Instances      Box(P          R      mAP50  mAP50-95): 100%|██████████| 1/1 [00:00<0"
     ]
    },
    {
     "name": "stdout",
     "output_type": "stream",
     "text": [
      "                   all         25         28      0.978      0.833      0.831      0.702\n"
     ]
    },
    {
     "name": "stderr",
     "output_type": "stream",
     "text": [
      "\n"
     ]
    },
    {
     "name": "stdout",
     "output_type": "stream",
     "text": [
      "\n",
      "      Epoch    GPU_mem   box_loss   cls_loss   dfl_loss  Instances       Size\n"
     ]
    },
    {
     "name": "stderr",
     "output_type": "stream",
     "text": [
      "      45/50      12.4G     0.5625     0.3528     0.9999         42        640: 100%|██████████| 4/4 [00:01<00:00,  2.80\n",
      "                 Class     Images  Instances      Box(P          R      mAP50  mAP50-95): 100%|██████████| 1/1 [00:00<0"
     ]
    },
    {
     "name": "stdout",
     "output_type": "stream",
     "text": [
      "                   all         25         28      0.956      0.833      0.831      0.675\n"
     ]
    },
    {
     "name": "stderr",
     "output_type": "stream",
     "text": [
      "\n"
     ]
    },
    {
     "name": "stdout",
     "output_type": "stream",
     "text": [
      "\n",
      "      Epoch    GPU_mem   box_loss   cls_loss   dfl_loss  Instances       Size\n"
     ]
    },
    {
     "name": "stderr",
     "output_type": "stream",
     "text": [
      "      46/50      12.4G      0.498      0.328     0.9852         39        640: 100%|██████████| 4/4 [00:01<00:00,  2.77\n",
      "                 Class     Images  Instances      Box(P          R      mAP50  mAP50-95): 100%|██████████| 1/1 [00:00<0"
     ]
    },
    {
     "name": "stdout",
     "output_type": "stream",
     "text": [
      "                   all         25         28      0.979      0.807      0.831      0.673\n"
     ]
    },
    {
     "name": "stderr",
     "output_type": "stream",
     "text": [
      "\n"
     ]
    },
    {
     "name": "stdout",
     "output_type": "stream",
     "text": [
      "\n",
      "      Epoch    GPU_mem   box_loss   cls_loss   dfl_loss  Instances       Size\n"
     ]
    },
    {
     "name": "stderr",
     "output_type": "stream",
     "text": [
      "      47/50      12.4G     0.5053     0.3343      0.978         38        640: 100%|██████████| 4/4 [00:01<00:00,  2.77\n",
      "                 Class     Images  Instances      Box(P          R      mAP50  mAP50-95): 100%|██████████| 1/1 [00:00<0"
     ]
    },
    {
     "name": "stdout",
     "output_type": "stream",
     "text": [
      "                   all         25         28      0.955      0.833      0.831      0.677\n"
     ]
    },
    {
     "name": "stderr",
     "output_type": "stream",
     "text": [
      "\n"
     ]
    },
    {
     "name": "stdout",
     "output_type": "stream",
     "text": [
      "\n",
      "      Epoch    GPU_mem   box_loss   cls_loss   dfl_loss  Instances       Size\n"
     ]
    },
    {
     "name": "stderr",
     "output_type": "stream",
     "text": [
      "      48/50      12.4G     0.4515     0.2985     0.9135         38        640: 100%|██████████| 4/4 [00:01<00:00,  2.82\n",
      "                 Class     Images  Instances      Box(P          R      mAP50  mAP50-95): 100%|██████████| 1/1 [00:00<0"
     ]
    },
    {
     "name": "stdout",
     "output_type": "stream",
     "text": [
      "                   all         25         28      0.962      0.833      0.831      0.673\n"
     ]
    },
    {
     "name": "stderr",
     "output_type": "stream",
     "text": [
      "\n"
     ]
    },
    {
     "name": "stdout",
     "output_type": "stream",
     "text": [
      "\n",
      "      Epoch    GPU_mem   box_loss   cls_loss   dfl_loss  Instances       Size\n"
     ]
    },
    {
     "name": "stderr",
     "output_type": "stream",
     "text": [
      "      49/50      12.4G     0.5005     0.3165     0.9804         34        640: 100%|██████████| 4/4 [00:01<00:00,  2.77\n",
      "                 Class     Images  Instances      Box(P          R      mAP50  mAP50-95): 100%|██████████| 1/1 [00:00<0"
     ]
    },
    {
     "name": "stdout",
     "output_type": "stream",
     "text": [
      "                   all         25         28      0.973      0.833      0.832      0.694\n"
     ]
    },
    {
     "name": "stderr",
     "output_type": "stream",
     "text": [
      "\n"
     ]
    },
    {
     "name": "stdout",
     "output_type": "stream",
     "text": [
      "\n",
      "      Epoch    GPU_mem   box_loss   cls_loss   dfl_loss  Instances       Size\n"
     ]
    },
    {
     "name": "stderr",
     "output_type": "stream",
     "text": [
      "      50/50      12.4G     0.4639     0.2994     0.9417         42        640: 100%|██████████| 4/4 [00:01<00:00,  2.78\n",
      "                 Class     Images  Instances      Box(P          R      mAP50  mAP50-95): 100%|██████████| 1/1 [00:00<0"
     ]
    },
    {
     "name": "stdout",
     "output_type": "stream",
     "text": [
      "                   all         25         28      0.977      0.833      0.832      0.695\n"
     ]
    },
    {
     "name": "stderr",
     "output_type": "stream",
     "text": [
      "\n"
     ]
    },
    {
     "name": "stdout",
     "output_type": "stream",
     "text": [
      "\n",
      "50 epochs completed in 0.033 hours.\n",
      "Optimizer stripped from C:\\Users\\cauff\\OneDrive\\Desktop\\yazilim_xyz_p1\\outputs\\runs_yolo\\face_recognition18\\weights\\last.pt, 52.0MB\n",
      "Optimizer stripped from C:\\Users\\cauff\\OneDrive\\Desktop\\yazilim_xyz_p1\\outputs\\runs_yolo\\face_recognition18\\weights\\best.pt, 52.0MB\n",
      "\n",
      "Validating C:\\Users\\cauff\\OneDrive\\Desktop\\yazilim_xyz_p1\\outputs\\runs_yolo\\face_recognition18\\weights\\best.pt...\n",
      "Ultralytics 8.3.145  Python-3.9.21 torch-2.5.1+cu121 CUDA:0 (NVIDIA GeForce RTX 4070 Ti SUPER, 16376MiB)\n",
      "Model summary (fused): 92 layers, 25,840,918 parameters, 0 gradients, 78.7 GFLOPs\n"
     ]
    },
    {
     "name": "stderr",
     "output_type": "stream",
     "text": [
      "                 Class     Images  Instances      Box(P          R      mAP50  mAP50-95): 100%|██████████| 1/1 [00:00<0\n"
     ]
    },
    {
     "name": "stdout",
     "output_type": "stream",
     "text": [
      "                   all         25         28      0.978      0.833      0.831      0.702\n",
      "                mehmet         25         25      0.979          1      0.995       0.87\n",
      "            non_mehmet          2          3      0.976      0.667      0.666      0.534\n",
      "Speed: 0.2ms preprocess, 3.2ms inference, 0.0ms loss, 0.6ms postprocess per image\n",
      "Results saved to \u001b[1mC:\\Users\\cauff\\OneDrive\\Desktop\\yazilim_xyz_p1\\outputs\\runs_yolo\\face_recognition18\u001b[0m\n",
      "\n",
      " Eğitim tamamlandı! \n",
      "\n"
     ]
    }
   ],
   "source": [
    "chosen_model = 'yolov8m.pt'\n",
    "EPOCHS = 50  \n",
    "IMG_SIZE = 640 \n",
    "BATCH_SIZE = 32\n",
    "PROJECT_NAME_TRAIN = runs_dir \n",
    "EXPERIMENT_NAME = 'face_recognition'\n",
    "\n",
    "model = YOLO(chosen_model)\n",
    "\n",
    "results = model.train(\n",
    "    data = yaml_dir,\n",
    "    epochs=EPOCHS,\n",
    "    imgsz=IMG_SIZE,\n",
    "    workers=4,\n",
    "    batch=BATCH_SIZE,\n",
    "    project=PROJECT_NAME_TRAIN,\n",
    "    name=EXPERIMENT_NAME,\n",
    "    patience=50,          # Sabır değerini artırın ki model tüm epokları bitirebilsin ve bu yüksek performansa ulaşsın\n",
    "    device=0,\n",
    "    fliplr=0.75,\n",
    "    flipud=0.0,\n",
    "    degrees=10.0,        # Döndürme biraz artırıldı\n",
    ")\n",
    "\n",
    "print(\"\\n Eğitim tamamlandı! \\n\")\n",
    "\n",
    "best_model_dir = os.path.join(PROJECT_NAME_TRAIN, EXPERIMENT_NAME, 'weights', 'best.pt')"
   ]
  },
  {
   "cell_type": "code",
   "execution_count": 21,
   "id": "b52107e4-515d-42d7-aa5c-673e5ec36ee2",
   "metadata": {},
   "outputs": [],
   "source": [
    "best_model_path = r\"C:\\Users\\cauff\\OneDrive\\Desktop\\yazilim_xyz_p1\\outputs\\runs_yolo\\face_recognition18\\weights\\best.pt\"\n",
    "model = YOLO(best_model_path)\n",
    "\n",
    "test_photo_dir = os.path.join(base_direction, 'test_set')"
   ]
  },
  {
   "cell_type": "code",
   "execution_count": 23,
   "id": "5b3d6408-a327-4a68-b88e-fc53362eb269",
   "metadata": {},
   "outputs": [
    {
     "name": "stdout",
     "output_type": "stream",
     "text": [
      "\n",
      "image 1/5 C:\\Users\\cauff\\OneDrive\\Desktop\\yazilim_xyz_p1\\test_set\\IMG_2192.JPEG: 480x640 1 mehmet, 3 non_mehmets, 48.0ms\n",
      "image 2/5 C:\\Users\\cauff\\OneDrive\\Desktop\\yazilim_xyz_p1\\test_set\\IMG_2583.JPEG: 640x480 1 mehmet, 38.5ms\n",
      "image 3/5 C:\\Users\\cauff\\OneDrive\\Desktop\\yazilim_xyz_p1\\test_set\\IMG_4796.JPEG: 480x640 2 mehmets, 2 non_mehmets, 34.5ms\n",
      "image 4/5 C:\\Users\\cauff\\OneDrive\\Desktop\\yazilim_xyz_p1\\test_set\\IMG_5310.JPEG: 640x480 1 mehmet, 4 non_mehmets, 36.8ms\n",
      "image 5/5 C:\\Users\\cauff\\OneDrive\\Desktop\\yazilim_xyz_p1\\test_set\\IMG_8896.JPEG: 640x480 1 mehmet, 36.6ms\n",
      "Speed: 1.8ms preprocess, 38.9ms inference, 1.3ms postprocess per image at shape (1, 3, 640, 480)\n",
      "Results saved to \u001b[1mruns\\detect\\predict5\u001b[0m\n",
      "tensor([[ 510.4349, 1037.4631, 1443.1769, 2104.4165],\n",
      "        [2600.0771,  489.7957, 2910.3223,  957.7047],\n",
      "        [2216.2673,  293.3003, 2479.9797,  662.1846],\n",
      "        [2138.7646,  741.3665, 2537.9617, 1266.0272]], device='cuda:0')\n",
      "tensor([0.9052, 0.7745, 0.7346, 0.6700], device='cuda:0')\n",
      "tensor([0., 1., 1., 1.], device='cuda:0')\n",
      "{0: 'mehmet', 1: 'non_mehmet'}\n",
      "Tahmin edilen görüntü kaydedildi: C:\\Users\\cauff\\OneDrive\\Desktop\\yazilim_xyz_p1\\test_set\\IMG_2192.JPEG\n",
      "tensor([[1250.9825,  899.3788, 1663.2124, 1512.3737]], device='cuda:0')\n",
      "tensor([0.8892], device='cuda:0')\n",
      "tensor([0.], device='cuda:0')\n",
      "{0: 'mehmet', 1: 'non_mehmet'}\n",
      "Tahmin edilen görüntü kaydedildi: C:\\Users\\cauff\\OneDrive\\Desktop\\yazilim_xyz_p1\\test_set\\IMG_2583.JPEG\n",
      "tensor([[ 997.7372, 1249.9360, 1326.4227, 1637.6340],\n",
      "        [3004.4778,  725.1725, 3958.9985, 1773.9227],\n",
      "        [1827.0730, 1128.1915, 2223.4438, 1625.8583],\n",
      "        [ 357.0613, 1061.7705,  710.8333, 1496.2574]], device='cuda:0')\n",
      "tensor([0.9625, 0.9221, 0.9212, 0.8988], device='cuda:0')\n",
      "tensor([1., 0., 1., 0.], device='cuda:0')\n",
      "{0: 'mehmet', 1: 'non_mehmet'}\n",
      "Tahmin edilen görüntü kaydedildi: C:\\Users\\cauff\\OneDrive\\Desktop\\yazilim_xyz_p1\\test_set\\IMG_4796.JPEG\n",
      "tensor([[ 734.4509, 1278.6398, 1126.9999, 1770.5831],\n",
      "        [1587.5710,  878.8017, 1974.9761, 1356.0505],\n",
      "        [ 176.7307, 1739.4557, 1131.5392, 2908.9612],\n",
      "        [2315.8879,  596.2170, 2967.4480, 1333.1044],\n",
      "        [1296.7510, 3306.3401, 1745.8457, 3726.1406]], device='cuda:0')\n",
      "tensor([0.9518, 0.9333, 0.9163, 0.9131, 0.7495], device='cuda:0')\n",
      "tensor([1., 1., 0., 1., 1.], device='cuda:0')\n",
      "{0: 'mehmet', 1: 'non_mehmet'}\n",
      "Tahmin edilen görüntü kaydedildi: C:\\Users\\cauff\\OneDrive\\Desktop\\yazilim_xyz_p1\\test_set\\IMG_5310.JPEG\n",
      "tensor([[615.7047, 608.6896, 907.8063, 986.6149]], device='cuda:0')\n",
      "tensor([0.9294], device='cuda:0')\n",
      "tensor([0.], device='cuda:0')\n",
      "{0: 'mehmet', 1: 'non_mehmet'}\n",
      "Tahmin edilen görüntü kaydedildi: C:\\Users\\cauff\\OneDrive\\Desktop\\yazilim_xyz_p1\\test_set\\IMG_8896.JPEG\n"
     ]
    }
   ],
   "source": [
    "results = model.predict(source = test_photo_dir, conf = 0.6, iou = 0.7, show=True, save= True)\n",
    "# Sonuçları incele (isteğe bağlı)\n",
    "for r in results:\n",
    "    # Tespit edilen nesneler hakkında bilgi\n",
    "    print(r.boxes.xyxy)  # Sınırlayıcı kutu koordinatları (x1, y1, x2, y2)\n",
    "    print(r.boxes.conf)  # Güven skorları\n",
    "    print(r.boxes.cls)   # Sınıf ID'leri (sizin durumunuzda 0 olacak)\n",
    "    print(r.names)       # Sınıf isimleri (örneğin {0: 'my_face'})\n",
    "\n",
    "    # Tahmin edilen görüntünün kaydedildiği yer\n",
    "    print(f\"Tahmin edilen görüntü kaydedildi: {r.path}\") # Tahmin edilen görüntü 'runs/detect/predictX' klasörüne kaydedilir"
   ]
  },
  {
   "cell_type": "code",
   "execution_count": null,
   "id": "8dd4558b-abd1-41ae-ba79-be108ec35513",
   "metadata": {},
   "outputs": [],
   "source": []
  }
 ],
 "metadata": {
  "kernelspec": {
   "display_name": "Python [conda env:yolo_env]",
   "language": "python",
   "name": "conda-env-yolo_env-py"
  },
  "language_info": {
   "codemirror_mode": {
    "name": "ipython",
    "version": 3
   },
   "file_extension": ".py",
   "mimetype": "text/x-python",
   "name": "python",
   "nbconvert_exporter": "python",
   "pygments_lexer": "ipython3",
   "version": "3.9.21"
  }
 },
 "nbformat": 4,
 "nbformat_minor": 5
}
